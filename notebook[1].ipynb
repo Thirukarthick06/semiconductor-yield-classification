{
 "cells": [
  {
   "cell_type": "markdown",
   "id": "bc0921fc",
   "metadata": {},
   "source": [
    "# Capstone 2 - Semiconductor Classification\n",
    "Notebook template."
   ]
  },
  {
   "cell_type": "markdown",
   "id": "bec5e066",
   "metadata": {},
   "source": [
    "## 1. Load data\n",
    "Run the cell to load `signal-data.csv`."
   ]
  },
  {
   "cell_type": "code",
   "execution_count": null,
   "id": "f87393a4",
   "metadata": {},
   "outputs": [],
   "source": [
    "import pandas as pd\n",
    "df = pd.read_csv('signal-data.csv')\n",
    "df.shape\n"
   ]
  },
  {
   "cell_type": "markdown",
   "id": "24726e76",
   "metadata": {},
   "source": [
    "## 2. EDA\n",
    "Add visualisations and summaries here."
   ]
  },
  {
   "cell_type": "markdown",
   "id": "61328618",
   "metadata": {},
   "source": [
    "## 3. Preprocessing\n",
    "## 4. Modeling\n",
    "## 5. Evaluation\n"
   ]
  }
 ],
 "metadata": {},
 "nbformat": 4,
 "nbformat_minor": 5
}
